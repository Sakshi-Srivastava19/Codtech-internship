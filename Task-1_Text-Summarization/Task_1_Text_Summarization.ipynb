{
  "nbformat": 4,
  "nbformat_minor": 0,
  "metadata": {
    "colab": {
      "provenance": [],
      "gpuType": "T4"
    },
    "kernelspec": {
      "name": "python3",
      "display_name": "Python 3"
    },
    "language_info": {
      "name": "python"
    },
    "accelerator": "GPU"
  },
  "cells": [
    {
      "cell_type": "markdown",
      "source": [
        "# **CODTECH INTERNSHIP - by SAKSHI SIVASTAVA**\n",
        "\n",
        "# **TASK 1 TEXT SUMMARIZATION TOOL**\n",
        "\n",
        "**CREATE A TOOL THAT SUMMARIZES LENGTHY ARTICLES USING NATURAL LANGUAGE PROCESSING TECHNIQUES.**\n",
        "\n",
        "\n"
      ],
      "metadata": {
        "id": "4Ato9_DsUZeD"
      }
    },
    {
      "cell_type": "code",
      "source": [
        "# Install Hugging Face Transformers\n",
        "!pip install transformers"
      ],
      "metadata": {
        "collapsed": true,
        "colab": {
          "base_uri": "https://localhost:8080/"
        },
        "id": "V59eITM_asrh",
        "outputId": "50451c8c-f4bb-4298-b246-77fc7f728377"
      },
      "execution_count": 8,
      "outputs": [
        {
          "output_type": "stream",
          "name": "stdout",
          "text": [
            "Requirement already satisfied: transformers in /usr/local/lib/python3.11/dist-packages (4.51.3)\n",
            "Requirement already satisfied: filelock in /usr/local/lib/python3.11/dist-packages (from transformers) (3.18.0)\n",
            "Requirement already satisfied: huggingface-hub<1.0,>=0.30.0 in /usr/local/lib/python3.11/dist-packages (from transformers) (0.31.1)\n",
            "Requirement already satisfied: numpy>=1.17 in /usr/local/lib/python3.11/dist-packages (from transformers) (2.0.2)\n",
            "Requirement already satisfied: packaging>=20.0 in /usr/local/lib/python3.11/dist-packages (from transformers) (24.2)\n",
            "Requirement already satisfied: pyyaml>=5.1 in /usr/local/lib/python3.11/dist-packages (from transformers) (6.0.2)\n",
            "Requirement already satisfied: regex!=2019.12.17 in /usr/local/lib/python3.11/dist-packages (from transformers) (2024.11.6)\n",
            "Requirement already satisfied: requests in /usr/local/lib/python3.11/dist-packages (from transformers) (2.32.3)\n",
            "Requirement already satisfied: tokenizers<0.22,>=0.21 in /usr/local/lib/python3.11/dist-packages (from transformers) (0.21.1)\n",
            "Requirement already satisfied: safetensors>=0.4.3 in /usr/local/lib/python3.11/dist-packages (from transformers) (0.5.3)\n",
            "Requirement already satisfied: tqdm>=4.27 in /usr/local/lib/python3.11/dist-packages (from transformers) (4.67.1)\n",
            "Requirement already satisfied: fsspec>=2023.5.0 in /usr/local/lib/python3.11/dist-packages (from huggingface-hub<1.0,>=0.30.0->transformers) (2025.3.2)\n",
            "Requirement already satisfied: typing-extensions>=3.7.4.3 in /usr/local/lib/python3.11/dist-packages (from huggingface-hub<1.0,>=0.30.0->transformers) (4.13.2)\n",
            "Requirement already satisfied: hf-xet<2.0.0,>=1.1.0 in /usr/local/lib/python3.11/dist-packages (from huggingface-hub<1.0,>=0.30.0->transformers) (1.1.0)\n",
            "Requirement already satisfied: charset-normalizer<4,>=2 in /usr/local/lib/python3.11/dist-packages (from requests->transformers) (3.4.2)\n",
            "Requirement already satisfied: idna<4,>=2.5 in /usr/local/lib/python3.11/dist-packages (from requests->transformers) (3.10)\n",
            "Requirement already satisfied: urllib3<3,>=1.21.1 in /usr/local/lib/python3.11/dist-packages (from requests->transformers) (2.4.0)\n",
            "Requirement already satisfied: certifi>=2017.4.17 in /usr/local/lib/python3.11/dist-packages (from requests->transformers) (2025.4.26)\n"
          ]
        }
      ]
    },
    {
      "cell_type": "code",
      "execution_count": 7,
      "metadata": {
        "id": "6QmKoaa6T4-V"
      },
      "outputs": [],
      "source": [
        "# Install the required library\n",
        "from transformers import pipeline"
      ]
    },
    {
      "cell_type": "markdown",
      "source": [
        "**MODEL USED <CODE> facebook/bart-large-cnn </CODE>**"
      ],
      "metadata": {
        "id": "tBYKjBZka7GY"
      }
    },
    {
      "cell_type": "code",
      "source": [
        "# Define a function to summarize text using a pre-trained model\n",
        "def summarize_text(text):\n",
        "    # Load BART model for summarization\n",
        "    summarizer = pipeline(\"summarization\", model=\"facebook/bart-large-cnn\")\n",
        "\n",
        "    # Generate the summary with specific length constraints\n",
        "    summary = summarizer(text, max_length=130, min_length=30, do_sample=False)\n",
        "\n",
        "    return summary[0]['summary_text']\n",
        "\n",
        "# Example long text to summarize\n",
        "article = \"\"\"\n",
        "Artificial Intelligence (AI) is revolutionizing every aspect of our lives — from virtual assistants and recommendation systems\n",
        "to self-driving cars and smart diagnostics in healthcare. As the technology advances, it raises questions about ethics,\n",
        "regulation, and its long-term impact on employment and society at large.Artificial Intelligence (AI) is a broad field of computer science focused on creating machines capable of performing tasks that typically require human intelligence.\n",
        "This includes learning, reasoning, problem-solving, and making decisions. AI systems utilize techniques like machine learning and deep learning to process data, identify patterns,\n",
        "and make predictions without being explicitly programmed for every scenario. The field is rapidly evolving, with applications ranging\n",
        "from voice assistants and recommendation systems to medical diagnosis and self-driving cars\n",
        "\"\"\"\n",
        "\n",
        "# Generate and print the summary\n",
        "result = summarize_text(article)\n",
        "print(\"Summary:\\n\", result)"
      ],
      "metadata": {
        "colab": {
          "base_uri": "https://localhost:8080/"
        },
        "id": "u6k7RqQYa34l",
        "outputId": "d6bec859-f064-4b47-dacf-150d3e8c97c8"
      },
      "execution_count": 10,
      "outputs": [
        {
          "output_type": "stream",
          "name": "stderr",
          "text": [
            "Device set to use cuda:0\n"
          ]
        },
        {
          "output_type": "stream",
          "name": "stdout",
          "text": [
            "Summary:\n",
            " Artificial Intelligence (AI) is a broad field of computer science focused on creating machines capable of performing tasks that typically require human intelligence. AI systems utilize techniques like machine learning and deep learning to process data, identify patterns, and make predictions. The field is rapidly evolving, with applications ranging from voice assistants and recommendation systems to medical diagnosis and self-driving cars.\n"
          ]
        }
      ]
    },
    {
      "cell_type": "markdown",
      "source": [
        "**MODEL USED <CODE> sshleifer/distilbart-cnn-12-6 </CODE>**"
      ],
      "metadata": {
        "id": "P9w6BHYiadRA"
      }
    },
    {
      "cell_type": "code",
      "source": [
        "def summarize_text(text):\n",
        "    summarizer = pipeline(\"summarization\",model=\"sshleifer/distilbart-cnn-12-6\")\n",
        "    #summarizer = pipeline(\"summarization\")\n",
        "    summary = summarizer(text, max_length=60, min_length=30, do_sample=False)\n",
        "    return summary[0]['summary_text']"
      ],
      "metadata": {
        "id": "dulMNZ1fVm4_"
      },
      "execution_count": 11,
      "outputs": []
    },
    {
      "cell_type": "code",
      "source": [
        "if __name__ == \"__main__\":\n",
        "    article =\"\"\"Artificial Intelligence (AI) is a broad field of computer science focused\n",
        "    on creating machines capable of performing tasks that typically require human intelligence.\n",
        "    This includes learning, reasoning, problem-solving, and making decisions.\n",
        "    AI systems utilize techniques like machine learning and deep learning to process data, identify patterns,\n",
        "    and make predictions without being explicitly programmed for every scenario. The field is rapidly evolving, with applications ranging\n",
        "    from voice assistants and recommendation systems to medical diagnosis and self-driving cars.\"\"\"\n",
        "    result = summarize_text(article)\n",
        "    print(\"\\nSummary:\\n\", result)"
      ],
      "metadata": {
        "colab": {
          "base_uri": "https://localhost:8080/"
        },
        "id": "T7w4Oy-CVoJ1",
        "outputId": "98eacfec-8255-4910-915c-a39ace63790d"
      },
      "execution_count": 12,
      "outputs": [
        {
          "output_type": "stream",
          "name": "stderr",
          "text": [
            "Device set to use cuda:0\n"
          ]
        },
        {
          "output_type": "stream",
          "name": "stdout",
          "text": [
            "\n",
            "Summary:\n",
            "  Artificial Intelligence (AI) is a broad field of computer science focused on creating machines capable of performing tasks that typically require human intelligence . This includes learning, reasoning, problem-solving, and making decisions . AI systems utilize techniques like machine learning and deep learning to process data, identify patterns\n"
          ]
        }
      ]
    },
    {
      "cell_type": "code",
      "source": [],
      "metadata": {
        "id": "mr1R7yyyZ584"
      },
      "execution_count": null,
      "outputs": []
    }
  ]
}